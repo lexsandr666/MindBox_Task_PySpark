{
 "cells": [
  {
   "cell_type": "code",
   "execution_count": 1,
   "id": "23a604d3-1c72-4951-8b40-2b859618990d",
   "metadata": {},
   "outputs": [],
   "source": [
    "from pyspark.sql import SparkSession\n",
    "from pyspark.sql.functions import col\n",
    "\n",
    "spark = SparkSession.builder.appName(\"ProductCategoryAnalysis\").getOrCreate()"
   ]
  },
  {
   "cell_type": "code",
   "execution_count": 2,
   "id": "81f114e0-1d71-4c18-b8a9-c1c553c17a3a",
   "metadata": {},
   "outputs": [
    {
     "name": "stdout",
     "output_type": "stream",
     "text": [
      "Продукты\n",
      "+---+-----------------+\n",
      "| id|             name|\n",
      "+---+-----------------+\n",
      "|  1|          Аспирин|\n",
      "|  2|      Парацетамол|\n",
      "|  3|Ноутбук Lenovo X1|\n",
      "|  4| Smart TV Samsung|\n",
      "|  5|           Яблоко|\n",
      "|  6|        Картофель|\n",
      "|  7|    Кофе зерновой|\n",
      "|  8|    Шоколад Milka|\n",
      "|  9|  Ручка шариковая|\n",
      "| 10|       Принтер HP|\n",
      "+---+-----------------+\n",
      "\n",
      "Категории\n",
      "+---+-----------------+\n",
      "| id|             name|\n",
      "+---+-----------------+\n",
      "|  1|          Аспирин|\n",
      "|  2|      Парацетамол|\n",
      "|  3|Ноутбук Lenovo X1|\n",
      "|  4| Smart TV Samsung|\n",
      "|  5|           Яблоко|\n",
      "|  6|        Картофель|\n",
      "|  7|    Кофе зерновой|\n",
      "|  8|    Шоколад Milka|\n",
      "|  9|  Ручка шариковая|\n",
      "| 10|       Принтер HP|\n",
      "+---+-----------------+\n",
      "\n",
      "Связка ключей продуктов и категорий\n",
      "+---+-----------------+\n",
      "| id|             name|\n",
      "+---+-----------------+\n",
      "|  1|          Аспирин|\n",
      "|  2|      Парацетамол|\n",
      "|  3|Ноутбук Lenovo X1|\n",
      "|  4| Smart TV Samsung|\n",
      "|  5|           Яблоко|\n",
      "|  6|        Картофель|\n",
      "|  7|    Кофе зерновой|\n",
      "|  8|    Шоколад Milka|\n",
      "|  9|  Ручка шариковая|\n",
      "| 10|       Принтер HP|\n",
      "+---+-----------------+\n",
      "\n"
     ]
    }
   ],
   "source": [
    "df_products = spark.read.option(\"multiline\", True).json(\"data/products.json\")\n",
    "df_categories = spark.read.option(\"multiline\", True).json(\"data/categories.json\")\n",
    "df_productCategories = spark.read.option(\"multiline\", True).json(\"data/productCategories.json\")\n",
    "\n",
    "print(\"Продукты\")\n",
    "df_products.show()\n",
    "\n",
    "print(\"Категории\")\n",
    "df_products.show()\n",
    "\n",
    "print(\"Связка ключей продуктов и категорий\")\n",
    "df_products.show()"
   ]
  },
  {
   "cell_type": "code",
   "execution_count": 3,
   "id": "c6a74219-5fb8-45c7-8027-34e1bbf38e43",
   "metadata": {},
   "outputs": [],
   "source": [
    "def get_product_categories(df_products, df_categories, df_productCategories):\n",
    "    result = (\n",
    "                df_products.alias(\"p\")\n",
    "                    .join(df_productCategories.alias(\"pc\"), col(\"p.id\") == col(\"pc.product_id\"), \"left\")\n",
    "                    .join(df_categories.alias(\"c\"), col(\"pc.category_id\") == col(\"c.id\"), \"left\")\n",
    "                    .where(col(\"p.id\").isNotNull())\n",
    "                    .select(\n",
    "                        col(\"p.name\").alias(\"product_name\"),\n",
    "                        col(\"c.name\").alias(\"category_name\")\n",
    "                    )\n",
    "    )\n",
    "        \n",
    "    return result\n"
   ]
  },
  {
   "cell_type": "code",
   "execution_count": 4,
   "id": "3b3cb71d-e58a-46cc-aaac-de73ad870d8d",
   "metadata": {},
   "outputs": [
    {
     "name": "stdout",
     "output_type": "stream",
     "text": [
      "Продукты и их категории\n",
      "+-----------------+----------------+\n",
      "|product_name     |category_name   |\n",
      "+-----------------+----------------+\n",
      "|Аспирин          |Медикаменты     |\n",
      "|Парацетамол      |Медикаменты     |\n",
      "|Ноутбук Lenovo X1|Офисная техника |\n",
      "|Ноутбук Lenovo X1|Электроника     |\n",
      "|Smart TV Samsung |Бытовая техника |\n",
      "|Smart TV Samsung |Электроника     |\n",
      "|Яблоко           |NULL            |\n",
      "|Картофель        |Овощи           |\n",
      "|Картофель        |Продукты питания|\n",
      "|Кофе зерновой    |Напитки         |\n",
      "|Кофе зерновой    |Продукты питания|\n",
      "|Шоколад Milka    |Бакалея         |\n",
      "|Шоколад Milka    |Продукты питания|\n",
      "|Ручка шариковая  |Канцелярия      |\n",
      "|Принтер HP       |Офисная техника |\n",
      "|Принтер HP       |Электроника     |\n",
      "+-----------------+----------------+\n",
      "\n"
     ]
    }
   ],
   "source": [
    "result = get_product_categories(df_products, df_categories, df_productCategories)\n",
    "\n",
    "print(\"Продукты и их категории\")\n",
    "result.show(truncate=False)"
   ]
  },
  {
   "cell_type": "code",
   "execution_count": 5,
   "id": "79e46093-2182-4950-9101-a75230fcd44f",
   "metadata": {},
   "outputs": [],
   "source": [
    "spark.stop()"
   ]
  }
 ],
 "metadata": {
  "kernelspec": {
   "display_name": "Python 3 (ipykernel)",
   "language": "python",
   "name": "python3"
  },
  "language_info": {
   "codemirror_mode": {
    "name": "ipython",
    "version": 3
   },
   "file_extension": ".py",
   "mimetype": "text/x-python",
   "name": "python",
   "nbconvert_exporter": "python",
   "pygments_lexer": "ipython3",
   "version": "3.11.6"
  }
 },
 "nbformat": 4,
 "nbformat_minor": 5
}
